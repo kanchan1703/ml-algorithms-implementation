{
 "cells": [
  {
   "cell_type": "markdown",
   "id": "7ea136cb",
   "metadata": {},
   "source": [
    "# Linear Regression Implementation\n"
   ]
  },
  {
   "cell_type": "code",
   "execution_count": 12,
   "id": "c58061e2",
   "metadata": {},
   "outputs": [],
   "source": [
    "%matplotlib inline\n",
    "import warnings\n",
    "warnings.simplefilter(action='ignore', category=FutureWarning)\n",
    "\n",
    "import numpy as np\n",
    "import matplotlib.pyplot as plt\n",
    "import pandas as pd"
   ]
  },
  {
   "cell_type": "markdown",
   "id": "a6a7e3e9-7a58-433e-a9fe-8266ebd627ef",
   "metadata": {},
   "source": [
    "### Uploading the dataset"
   ]
  },
  {
   "cell_type": "code",
   "execution_count": 3,
   "id": "dea0d97d",
   "metadata": {},
   "outputs": [
    {
     "name": "stdout",
     "output_type": "stream",
     "text": [
      "(30, 2)\n"
     ]
    },
    {
     "data": {
      "text/html": [
       "<div>\n",
       "<style scoped>\n",
       "    .dataframe tbody tr th:only-of-type {\n",
       "        vertical-align: middle;\n",
       "    }\n",
       "\n",
       "    .dataframe tbody tr th {\n",
       "        vertical-align: top;\n",
       "    }\n",
       "\n",
       "    .dataframe thead th {\n",
       "        text-align: right;\n",
       "    }\n",
       "</style>\n",
       "<table border=\"1\" class=\"dataframe\">\n",
       "  <thead>\n",
       "    <tr style=\"text-align: right;\">\n",
       "      <th></th>\n",
       "      <th>Years of Experience</th>\n",
       "      <th>Salary</th>\n",
       "    </tr>\n",
       "  </thead>\n",
       "  <tbody>\n",
       "    <tr>\n",
       "      <th>0</th>\n",
       "      <td>1.1</td>\n",
       "      <td>39343</td>\n",
       "    </tr>\n",
       "    <tr>\n",
       "      <th>1</th>\n",
       "      <td>1.3</td>\n",
       "      <td>46205</td>\n",
       "    </tr>\n",
       "    <tr>\n",
       "      <th>2</th>\n",
       "      <td>1.5</td>\n",
       "      <td>37731</td>\n",
       "    </tr>\n",
       "    <tr>\n",
       "      <th>3</th>\n",
       "      <td>2.0</td>\n",
       "      <td>43525</td>\n",
       "    </tr>\n",
       "    <tr>\n",
       "      <th>4</th>\n",
       "      <td>2.2</td>\n",
       "      <td>39891</td>\n",
       "    </tr>\n",
       "  </tbody>\n",
       "</table>\n",
       "</div>"
      ],
      "text/plain": [
       "   Years of Experience  Salary\n",
       "0                  1.1   39343\n",
       "1                  1.3   46205\n",
       "2                  1.5   37731\n",
       "3                  2.0   43525\n",
       "4                  2.2   39891"
      ]
     },
     "execution_count": 3,
     "metadata": {},
     "output_type": "execute_result"
    }
   ],
   "source": [
    "data = pd.read_csv(\"salaries.csv\")\n",
    "print(data.shape)\n",
    "data.head()"
   ]
  },
  {
   "cell_type": "markdown",
   "id": "24133c4f-e106-4307-9fa8-346a500e9f80",
   "metadata": {},
   "source": [
    "### Data Visualization "
   ]
  },
  {
   "cell_type": "code",
   "execution_count": 4,
   "id": "46ed87dd",
   "metadata": {},
   "outputs": [
    {
     "data": {
      "image/png": "[encoded data removed]",
      "text/plain": [
       "<Figure size 640x480 with 1 Axes>"
      ]
     },
     "metadata": {},
     "output_type": "display_data"
    }
   ],
   "source": [
    "# Scatter Plot\n",
    "x= data[\"Years of Experience\"]\n",
    "y=data['Salary']\n",
    "\n",
    "plt.scatter(x, y, color='blue')\n",
    "plt.xlabel('years of experience')\n",
    "plt.ylabel('salary')\n",
    "plt.show()"
   ]
  },
  {
   "cell_type": "markdown",
   "id": "cdda0f91-e847-4826-990e-8db560432b60",
   "metadata": {},
   "source": [
    "### Calculating Regression Coefficients (b0 & b1)"
   ]
  },
  {
   "cell_type": "code",
   "execution_count": 5,
   "id": "04912749",
   "metadata": {},
   "outputs": [
    {
     "name": "stdout",
     "output_type": "stream",
     "text": [
      "9449.962321455077 25792.20019866869\n"
     ]
    }
   ],
   "source": [
    "def mean(values):\n",
    "    return sum(values) / float(len(values))\n",
    "\n",
    "# initializing our inputs and outputs\n",
    "x = data['Years of Experience'].values\n",
    "y = data['Salary'].values\n",
    "\n",
    "# mean of our inputs and outputs\n",
    "x_mean = mean(x)\n",
    "y_mean = mean(y)\n",
    "\n",
    "#total number of values\n",
    "n = len(x)\n",
    "\n",
    "# using the formula to calculate the b1 and b0\n",
    "numerator = 0\n",
    "denominator = 0\n",
    "for i in range(n):\n",
    "    numerator += (x[i] - x_mean) * (y[i] - y_mean)\n",
    "    denominator += (x[i] - x_mean) ** 2\n",
    "    \n",
    "b1 = numerator / denominator\n",
    "b0 = y_mean - (b1 * x_mean)\n",
    "\n",
    "#printing the coefficient\n",
    "print(b1, b0)"
   ]
  },
  {
   "cell_type": "markdown",
   "id": "2faa91e9-ff14-459c-ba61-2104bd5cdb69",
   "metadata": {},
   "source": [
    "### Compute Mean Squared Error(MSE)\n",
    "#### We calculate Mean Squared Error (MSE) to measure how well our linear regression model fits the data. It quantifies the average squared difference between actual (y_actual) and predicted (y_predicted) values."
   ]
  },
  {
   "cell_type": "code",
   "execution_count": 16,
   "id": "ac2b77e7",
   "metadata": {},
   "outputs": [
    {
     "name": "stdout",
     "output_type": "stream",
     "text": [
      "Mean Squared Error: 31270951.72228097\n"
     ]
    }
   ],
   "source": [
    "# Compute Mean Squared Error (MSE)\n",
    "def mean_squared_error(y_actual, y_predicted):\n",
    "    y_actual = np.array(y_actual).flatten()  # Ensure it's a NumPy array\n",
    "    y_predicted = np.array(y_predicted).flatten()\n",
    "    n = len(y_actual)\n",
    "    mse = np.sum((y_actual - y_predicted) ** 2) / n\n",
    "    return mse\n",
    "\n",
    "# Predict values using calculated b0 and b1\n",
    "y_pred = b0 + b1 * x\n",
    "\n",
    "# Compute MSE\n",
    "mse = mean_squared_error(y, y_pred)\n",
    "print(\"Mean Squared Error:\", mse)\n"
   ]
  },
  {
   "cell_type": "markdown",
   "id": "75cceae0-6d00-4159-bfcd-b9fa8810b102",
   "metadata": {},
   "source": [
    "### Implement Prediction Function\n",
    "#### Prediction function is used to estimate the target variable(y) for new and unseen input values(x). "
   ]
  },
  {
   "cell_type": "code",
   "execution_count": 14,
   "id": "b7d75e6c-3746-45f9-9196-97a80a46939d",
   "metadata": {},
   "outputs": [
    {
     "name": "stdout",
     "output_type": "stream",
     "text": [
      "Predicted Salary for 5 years of experience: 73042.01180594409\n"
     ]
    }
   ],
   "source": [
    "# Function to predict Salary for a given Years of Experience\n",
    "def predict(x_input):\n",
    "    return b0 + b1 * x_input\n",
    "\n",
    "# Predicting the salary for 5 years of experience\n",
    "x_test = 5\n",
    "predicted_salary = predict(x_test)\n",
    "print(f\"Predicted Salary for {x_test} years of experience: {predicted_salary}\")\n"
   ]
  },
  {
   "cell_type": "markdown",
   "id": "145eba56-c138-4069-893f-03fd07bfffb6",
   "metadata": {},
   "source": [
    "### Best-Fit Line Visualization"
   ]
  },
  {
   "cell_type": "code",
   "execution_count": 15,
   "id": "94a69ee2-1d2e-472d-a5d0-a979566bf03e",
   "metadata": {},
   "outputs": [
    {
     "data": {
      "image/png": "[encoded data removed]",
      "text/plain": [
       "<Figure size 640x480 with 1 Axes>"
      ]
     },
     "metadata": {},
     "output_type": "display_data"
    }
   ],
   "source": [
    "# Corrected Best-Fit Line Visualization\n",
    "plt.scatter(x, y, color='blue', label='Actual Data')\n",
    "\n",
    "# Generate line using more points for smoothness\n",
    "x_line = np.linspace(np.min(x), np.max(x), 100)\n",
    "y_line = b0 + b1 * x_line  # Using calculated parameters\n",
    "\n",
    "# Plot Best-Fit Line\n",
    "plt.plot(x_line, y_line, color='green', linewidth=2, label='Best Fit Line')\n",
    "\n",
    "# Labels\n",
    "plt.xlabel('Years of Experience')\n",
    "plt.ylabel('Salary')\n",
    "plt.legend()\n",
    "plt.show()\n"
   ]
  },
  {
   "cell_type": "markdown",
   "id": "7260a788-585b-4978-b080-f61b94ff5e4f",
   "metadata": {},
   "source": [
    "#### This plot shows a Linear Regression model, where the blue scatter points represent actual data (Years of Experience vs. Salary), and the green line is the best-fit line derived from the model. The close alignment of points with the line indicates a strong linear relationship. "
   ]
  },
  {
   "cell_type": "code",
   "execution_count": null,
   "id": "5ce5c577-1cea-4ab3-8f07-80dc269e6538",
   "metadata": {},
   "outputs": [],
   "source": []
  }
 ],
 "metadata": {
  "kernelspec": {
   "display_name": "Python 3 (ipykernel)",
   "language": "python",
   "name": "python3"
  },
  "language_info": {
   "codemirror_mode": {
    "name": "ipython",
    "version": 3
   },
   "file_extension": ".py",
   "mimetype": "text/x-python",
   "name": "python",
   "nbconvert_exporter": "python",
   "pygments_lexer": "ipython3",
   "version": "3.11.4"
  }
 },
 "nbformat": 4,
 "nbformat_minor": 5
}
